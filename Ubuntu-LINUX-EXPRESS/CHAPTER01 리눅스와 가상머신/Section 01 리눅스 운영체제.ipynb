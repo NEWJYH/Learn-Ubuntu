{
 "cells": [
  {
   "cell_type": "markdown",
   "id": "199d7c3b",
   "metadata": {},
   "source": [
    "# 1. 리눅스의 탄생"
   ]
  },
  {
   "cell_type": "markdown",
   "id": "e86fc589",
   "metadata": {},
   "source": [
    "리누스 토발즈에 의해 개발된 운영체제"
   ]
  },
  {
   "cell_type": "markdown",
   "id": "31439eb2",
   "metadata": {},
   "source": [
    "---"
   ]
  },
  {
   "cell_type": "markdown",
   "id": "02a3d4b5",
   "metadata": {},
   "source": [
    "# 2. GNU 프로젝트"
   ]
  },
  {
   "cell_type": "markdown",
   "id": "ecd9cac3",
   "metadata": {},
   "source": [
    "리눅스 커널 개발 이전 리차드 스톨만에 의해서 시작\n",
    "\n",
    "리차드 스톨만  \n",
    "    - 자유소프트웨어 재단(FSF : Free Software Foundation) 설립\n",
    "    - GNU 프로젝트 소프트웨어 지원\n",
    "    - 프로그램의 복제, 변경, 소스 코드의 사용에 대한 제한 철폐하는 것을 목표\n",
    "    \n",
    "> GNU 프로젝트 추구하고자 하는 목표 \n",
    ">> 모두가 공유할 수 있는 소프트웨어"
   ]
  },
  {
   "cell_type": "markdown",
   "id": "0b587a65",
   "metadata": {},
   "source": [
    "---"
   ]
  },
  {
   "cell_type": "markdown",
   "id": "efc9bfe1",
   "metadata": {},
   "source": [
    "# 3. 커널과 셸"
   ]
  },
  {
   "cell_type": "markdown",
   "id": "e66d2eb5",
   "metadata": {},
   "source": [
    "## 리눅스 운영체제의 구성요소\n",
    "\n",
    "### 1. 리눅스 운영체제의 핵심 : 커널(Kernel)\n",
    "\n",
    "### 2. 커널과 사용자 프로그램의 중간 명령어 해석 : 셸(Shell)\n",
    "\n",
    "### 3. 사용자 프로그램"
   ]
  },
  {
   "cell_type": "markdown",
   "id": "4c4d3872",
   "metadata": {},
   "source": [
    "#### 1. 커널 \n",
    "\n",
    "리눅스 커널(Linux Kernel) \n",
    "    \n",
    "    - 운영체제와 컴퓨터 사용자(User) 사이에는 커널과 셸이 존재\n",
    "\n",
    "    - 셸이란 일종의 명령어 해석기를 의미 \n",
    "    \n",
    "    - 운영체제에서 사용하는 언어와 사용자가 사용하는 언어가 다르기 때문에\n",
    "      사용자가 명령을 입력하면 셸에서 명령을 받아 운영체제가 사용할 수 있는 언어로 \n",
    "      셸을 통해 번역을 수행"
   ]
  },
  {
   "cell_type": "markdown",
   "id": "fa39e0aa",
   "metadata": {},
   "source": [
    "#### 2. 셸\n",
    "\n",
    "셸(Shell: Operating System Command interpreter)\n",
    "    \n",
    "    - 사용자와 운영체제 내부(커널) 사이의 인터페이스를 감싸는 층\n",
    "    \n",
    "    - 명령 줄과 그래픽 형의 두 종류로 분류\n",
    "    \n",
    "        - 명령 줄 셸\n",
    "          운영 체제 상 명령줄 인터페이스 (CLI : Command Line Interface)제공\n",
    "        \n",
    "        - 그래픽 셸\n",
    "          운영 체제 상 그래픽 사용자 인터페이스(GUI: Graphic User Interface)제공\n",
    "    "
   ]
  },
  {
   "cell_type": "markdown",
   "id": "bdd9bb38",
   "metadata": {},
   "source": [
    "##### Shell의 의미\n",
    "    - 리눅스에서 대화형 사용자 인터페이스를 의미\n",
    "    - 사용자가 입력하는 명령어를 이해하고 실행하는 역할\n",
    "    - 운영체제의 바깥 계층에 위치\n",
    "    - 사용자와 커널의 의사소통 담당\n",
    "    - cshell, bourneshell, bashshell, tcshell 등의 다양한 종류\n",
    "    \n",
    "##### shell의 역할\n",
    "    - 입력을 읽고 해당 명령행을 분석\n",
    "    - 특수 문자들을 평가\n",
    "    - 파이프(|), 리다이렉션(>), 백그라운드(&) 프로세스를 설정\n",
    "    - 시그널 처리 (예> Ctrl + C)"
   ]
  }
 ],
 "metadata": {
  "kernelspec": {
   "display_name": "Python 3 (ipykernel)",
   "language": "python",
   "name": "python3"
  },
  "language_info": {
   "codemirror_mode": {
    "name": "ipython",
    "version": 3
   },
   "file_extension": ".py",
   "mimetype": "text/x-python",
   "name": "python",
   "nbconvert_exporter": "python",
   "pygments_lexer": "ipython3",
   "version": "3.9.13"
  }
 },
 "nbformat": 4,
 "nbformat_minor": 5
}
