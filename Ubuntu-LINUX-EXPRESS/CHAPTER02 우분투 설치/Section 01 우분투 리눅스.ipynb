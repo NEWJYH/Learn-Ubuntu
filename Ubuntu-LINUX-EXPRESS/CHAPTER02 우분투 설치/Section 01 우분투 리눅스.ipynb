{
 "cells": [
  {
   "cell_type": "markdown",
   "id": "4187f574",
   "metadata": {},
   "source": [
    "# 1. 우분투 LTS 버전"
   ]
  },
  {
   "cell_type": "markdown",
   "id": "6e503dc5",
   "metadata": {},
   "source": [
    "## LTS 버전이란?\n",
    "\n",
    "\n",
    "Long Term Support의 약어 \n",
    "    \n",
    "    - 개발사에서 10년간 유지보수와 업데이트를 제공하는 버전"
   ]
  },
  {
   "cell_type": "markdown",
   "id": "12d72a57",
   "metadata": {},
   "source": [
    "---"
   ]
  },
  {
   "cell_type": "markdown",
   "id": "65825945",
   "metadata": {},
   "source": [
    "# 2. 우분투 설치 사양\n",
    "\n",
    "하드웨어 \n",
    "\n",
    "    CPU : 2GHz 듀얼코어 이상 프로세서\n",
    "    HDD : 최소 25GB이상의 여유 공간 권장\n",
    "    RAM : 최소 4GB 이상 권장\n",
    "    그래픽카드 : 최신 그래픽카드 대부분 지원"
   ]
  },
  {
   "cell_type": "markdown",
   "id": "72e37e7b",
   "metadata": {},
   "source": [
    "---"
   ]
  }
 ],
 "metadata": {
  "kernelspec": {
   "display_name": "Python 3 (ipykernel)",
   "language": "python",
   "name": "python3"
  },
  "language_info": {
   "codemirror_mode": {
    "name": "ipython",
    "version": 3
   },
   "file_extension": ".py",
   "mimetype": "text/x-python",
   "name": "python",
   "nbconvert_exporter": "python",
   "pygments_lexer": "ipython3",
   "version": "3.9.13"
  }
 },
 "nbformat": 4,
 "nbformat_minor": 5
}
