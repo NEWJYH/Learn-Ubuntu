{
 "cells": [
  {
   "cell_type": "markdown",
   "id": "4af59d97",
   "metadata": {},
   "source": [
    "# 1. 터미널 창의 개념"
   ]
  },
  {
   "cell_type": "markdown",
   "id": "268b225a",
   "metadata": {},
   "source": [
    "터미널 창\n",
    "   \n",
    " - 그래픽 기반 사용자 인터페이스(GUI) 가아닌 명령 기반 인터페이스(CLI)를 바탕으로 개발"
   ]
  },
  {
   "cell_type": "markdown",
   "id": "0606878a",
   "metadata": {},
   "source": [
    "---"
   ]
  },
  {
   "cell_type": "markdown",
   "id": "ae635bf3",
   "metadata": {},
   "source": [
    "# 2. 터미널 창 활성화 하기"
   ]
  },
  {
   "cell_type": "markdown",
   "id": "f0afcff7",
   "metadata": {},
   "source": [
    " 명령 : Ctrl + Alt + T"
   ]
  }
 ],
 "metadata": {
  "kernelspec": {
   "display_name": "Python 3 (ipykernel)",
   "language": "python",
   "name": "python3"
  },
  "language_info": {
   "codemirror_mode": {
    "name": "ipython",
    "version": 3
   },
   "file_extension": ".py",
   "mimetype": "text/x-python",
   "name": "python",
   "nbconvert_exporter": "python",
   "pygments_lexer": "ipython3",
   "version": "3.9.13"
  }
 },
 "nbformat": 4,
 "nbformat_minor": 5
}
