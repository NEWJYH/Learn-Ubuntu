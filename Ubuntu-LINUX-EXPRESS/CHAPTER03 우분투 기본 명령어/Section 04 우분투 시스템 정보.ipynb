{
 "cells": [
  {
   "cell_type": "markdown",
   "id": "adbfcacb",
   "metadata": {},
   "source": [
    "# 1. 시스템 정보 출력"
   ]
  },
  {
   "cell_type": "markdown",
   "id": "9e47530c",
   "metadata": {},
   "source": [
    " - 우분투 시스템에  대한 정보를 확인하기 위해서 사용되는 명령어는 **uname**\n",
    " \n",
    " - 옵션 지정 상세한 정보 확인 가능\n",
    " \n",
    " - 시스템의 모든 정보를 확인하려면 옵션 사용\n",
    " \n",
    "옵션\n",
    "\n",
    "    - -a: 시스템의 모든 정보 확인\n",
    "    - -m: 시스템이 사용 중인 하드웨어 정보 확인\n",
    "    - -n: 호스트네임 확인\n",
    "    - -r: 운영체제의 릴리즈번호 확인\n",
    "    - -s: 운영체제의 이름 확인\n",
    "    - -v: 운영체제의 버전출시 일자 확인"
   ]
  },
  {
   "cell_type": "markdown",
   "id": "e97cb33c",
   "metadata": {},
   "source": [
    "\n",
    "### 시스템의 모든 정보 확인\n",
    "```cli\n",
    "uname -a\n",
    "```\n",
    "\n",
    "\n",
    "\n",
    "\n",
    "### 시스템이 사용 중인 하드웨어 정보 확인\n",
    "```cli\n",
    "uname -m\n",
    "```\n",
    "\n",
    "\n",
    "### 호스트네임 확인\n",
    "```cli\n",
    "uname -n\n",
    "```\n",
    "\n",
    "\n",
    "### 운영체제의 릴리즈번호 확인\n",
    "```cli\n",
    "uname -r\n",
    "```\n",
    "\n",
    "\n",
    "### 운영체제의 이름 확인\n",
    "```cli\n",
    "uname -s\n",
    "```\n",
    "\n",
    "\n",
    "### 운영체제의 버전출시 일자 확인\n",
    "```cli\n",
    "uname -v\n",
    "```\n",
    "\n"
   ]
  },
  {
   "cell_type": "markdown",
   "id": "96064afc",
   "metadata": {},
   "source": [
    "---"
   ]
  },
  {
   "cell_type": "markdown",
   "id": "6268eb77",
   "metadata": {},
   "source": [
    "# 2. 호스트 네임 출력\n",
    "\n",
    " - 현재 사용중인 호스트 네임을 확인 hostname 명령 사용\n",
    "\n",
    "```cli\n",
    "hostname\n",
    "```\n"
   ]
  },
  {
   "cell_type": "markdown",
   "id": "af84e40b",
   "metadata": {},
   "source": [
    "---"
   ]
  },
  {
   "cell_type": "markdown",
   "id": "b022221f",
   "metadata": {},
   "source": [
    "# 3. 하드웨어 정보 출력 : arch\n",
    "\n",
    "- 현재 사용 중인 컴퓨터의 CPU에 대한 정보를 확인 : arch\n",
    "\n",
    "```cli\n",
    "arch\n",
    "```\n"
   ]
  },
  {
   "cell_type": "markdown",
   "id": "90f60639",
   "metadata": {},
   "source": [
    "---"
   ]
  },
  {
   "cell_type": "markdown",
   "id": "0ced2fbe",
   "metadata": {},
   "source": [
    "# 4. 환경변수 확인 : env"
   ]
  },
  {
   "cell_type": "markdown",
   "id": "6cd04f65",
   "metadata": {},
   "source": [
    " - 우분투 시스템에서 설정된 환경변수 확인 : env\n",
    " \n",
    " ```cli\n",
    " env\n",
    " ```\n"
   ]
  },
  {
   "cell_type": "markdown",
   "id": "1e735b35",
   "metadata": {},
   "source": [
    "---"
   ]
  },
  {
   "cell_type": "markdown",
   "id": "96b08b4e",
   "metadata": {},
   "source": [
    "# 5. 문자열  표준 출력"
   ]
  },
  {
   "cell_type": "markdown",
   "id": "cab4f7cb",
   "metadata": {},
   "source": [
    " - 우분투의 터미널 창에서 문자열에 대한 표준 출력을 위해서는 \n",
    "   **echo** 명령을 사용\n",
    "   \n",
    " - **echo**명령은 주어진 문자열을 문자열 사이에 포함된 공백과 줄 마지막에 \n",
    "   줄 바꿈 문자를 포함하여 문자열을 표준 출력해 주는 명령\n",
    "   \n",
    "```cli\n",
    "echo Have a good time.\n",
    "```\n"
   ]
  },
  {
   "cell_type": "markdown",
   "id": "9179f504",
   "metadata": {},
   "source": [
    "## 옵션 출력 : echo [옵션] 이스케이프\n",
    "\n",
    " - echo 명령 사용 이스케이프 문자를 옵션으로 지정 표준 출력의 형태를 지정 할수 있음\n",
    " \n",
    " - 이스케이프 문자 echo 명령에서 사용할 경우 반드시 \"\"로 묶어서 사용\n",
    "  \n"
   ]
  },
  {
   "cell_type": "markdown",
   "id": "d960f95f",
   "metadata": {},
   "source": [
    "echo 명령에서 사용할 수 있는 이스케이프 문자\n",
    "     \n",
    "     - \"\\a\" : 삑~ 경고음\n",
    "     - \"\\b\" : 백스페이스 적용\n",
    "     - \"\\c\" : 마지막에 줄 바꿈 문자 출력 안함\n",
    "     - '\\f\" : 폼 피드 형식으로 출력(프린터에서 용지변경)\n",
    "     - \"\\n\" : 줄 바꿈 문자 출력\n",
    "     - \"\\r\" : 다음 행의 처음으로 커서 이동(개리지 리턴)\n",
    "     - \"\\t\" : 수평 탭 정렬\n",
    "     - \"\\v\" : 수직 탭 정렬\n",
    "     - \"\\\\\" : 역슬래시( 또는 \\) 출력\n",
    "     - \"\\nnn\" :  아스키코드가 8진수 (nnn)인 문자 출력"
   ]
  },
  {
   "cell_type": "markdown",
   "id": "5905df03",
   "metadata": {},
   "source": [
    "```cli\n",
    "echo -e Have a good time. \"\\n\"Nice good day.\n",
    "```\n"
   ]
  },
  {
   "cell_type": "markdown",
   "id": "66651a98",
   "metadata": {},
   "source": [
    "---"
   ]
  },
  {
   "cell_type": "markdown",
   "id": "1f9a223d",
   "metadata": {},
   "source": [
    "# 6. 명령어 디렉터리 경로"
   ]
  },
  {
   "attachments": {
    "image.png": {
     "image/png": "[encoded data removed]"
    }
   },
   "cell_type": "markdown",
   "id": "e484a590",
   "metadata": {},
   "source": [
    " - 터미널에서 사용하는 명령어가 어느 디렉터리에 존재하는지 확인 : which명령 사용\n",
    " \n",
    "```cli\n",
    "which echo\n",
    "```\n",
    "![image.png](attachment:image.png)"
   ]
  },
  {
   "cell_type": "markdown",
   "id": "0c0ee7c2",
   "metadata": {},
   "source": [
    "---"
   ]
  },
  {
   "cell_type": "markdown",
   "id": "61dd9a2f",
   "metadata": {},
   "source": [
    "# 7. 명령어 리스트\n"
   ]
  },
  {
   "cell_type": "markdown",
   "id": "b9c90300",
   "metadata": {},
   "source": [
    " - 터미널 창에서 사용했던 명령들을 확인 하고 자 할때  :history 명령 사용\n",
    " \n",
    " - 옵션 지정 사용했던 명령어 다시 실행"
   ]
  },
  {
   "attachments": {
    "image.png": {
     "image/png": "[encoded data removed]"
    }
   },
   "cell_type": "markdown",
   "id": "48985287",
   "metadata": {},
   "source": [
    "```cli\n",
    "history\n",
    "```\n",
    "\n",
    "![image.png](attachment:image.png)"
   ]
  },
  {
   "attachments": {
    "image.png": {
     "image/png": "[encoded data removed]"
    }
   },
   "cell_type": "markdown",
   "id": "4a68c8c1",
   "metadata": {},
   "source": [
    "## 사용했던 명령을 라인 번호로 다시 실행 : ![라인번호]\n",
    "\n",
    "```cli\n",
    "!11\n",
    "```\n",
    "![image.png](attachment:image.png)"
   ]
  },
  {
   "cell_type": "markdown",
   "id": "7e87b1ca",
   "metadata": {},
   "source": [
    "## 라인 번호를 지정하여 명령 삭제: history -[옵션][라인번호]"
   ]
  },
  {
   "cell_type": "markdown",
   "id": "210caaeb",
   "metadata": {},
   "source": [
    " - history 명령으로 출력된 명령어 리스트 중에서 명령을 수행했던 라인 번호를 확인\n",
    " - 삭제할 명령이 있는 특정 라인 번호를 지정 수행했던 명령 부분적 삭제 "
   ]
  },
  {
   "cell_type": "markdown",
   "id": "fe86c562",
   "metadata": {},
   "source": [
    " - history -d(옵션) 특정 라인 번호 지정 선택적 삭제 가능"
   ]
  },
  {
   "attachments": {
    "image.png": {
     "image/png": "[encoded data removed]"
    }
   },
   "cell_type": "markdown",
   "id": "0cc76ef5",
   "metadata": {},
   "source": [
    "```cli\n",
    "history -d 534\n",
    "```\n",
    "![image.png](attachment:image.png)\n"
   ]
  },
  {
   "cell_type": "markdown",
   "id": "1ec0e69c",
   "metadata": {},
   "source": [
    "## 사용했던 모든 명령어를 한꺼번에 삭제 : history -[옵션]"
   ]
  },
  {
   "cell_type": "markdown",
   "id": "886dd6d3",
   "metadata": {},
   "source": [
    "- 사용 했던 모든 명령어를 한꺼번에 삭제 history -c 옵션 사용"
   ]
  },
  {
   "attachments": {
    "image.png": {
     "image/png": "[encoded data removed]"
    }
   },
   "cell_type": "markdown",
   "id": "eae884c5",
   "metadata": {},
   "source": [
    "```cli\n",
    "history -c\n",
    "```\n",
    "![image.png](attachment:image.png)"
   ]
  }
 ],
 "metadata": {
  "kernelspec": {
   "display_name": "Python 3 (ipykernel)",
   "language": "python",
   "name": "python3"
  },
  "language_info": {
   "codemirror_mode": {
    "name": "ipython",
    "version": 3
   },
   "file_extension": ".py",
   "mimetype": "text/x-python",
   "name": "python",
   "nbconvert_exporter": "python",
   "pygments_lexer": "ipython3",
   "version": "3.9.13"
  }
 },
 "nbformat": 4,
 "nbformat_minor": 5
}
