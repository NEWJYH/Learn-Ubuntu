{
 "cells": [
  {
   "cell_type": "markdown",
   "id": "28e2e158",
   "metadata": {},
   "source": [
    "# 1. 접근 권한 종류"
   ]
  },
  {
   "cell_type": "markdown",
   "id": "7369efa8",
   "metadata": {},
   "source": [
    "- 읽기(r), 쓰기(w), 실행(x) 권한 등 세가지로 권한을 제한\n",
    "- 읽기 권한 : 읽을 수 있도록 부여된 권한\n",
    "- 쓰기 권한 : 파일의 내용을 읽고 쓸수 있고 수정과 삭제도 가능한 권한\n",
    "- 실행 권한 : 실행할 수 있는 권한"
   ]
  },
  {
   "cell_type": "markdown",
   "id": "0778f714",
   "metadata": {},
   "source": [
    " - 파일과 디렉터리의 접근 권한 종류\n",
    "     - 읽기(r) \n",
    "         - 파일 : 해당 파일을 읽거나 복사 가능\n",
    "         - 디렉터리 : ls 명령으로 디렉터리의 목록을 확인\n",
    "                     (옵션은 실행 권한이 있는 경우만 허용)\n",
    "     - 쓰기(w)\n",
    "         - 파일 : 파일을 수정, 이동, 삭제 가능\n",
    "                  (디렉터리에 쓰기 권한 있어야함)\n",
    "         - 디렉터리 : 해당 파일을 삭제하거나 생성할 수 있음\n",
    "     - 실행(x)\n",
    "         - 파일 : 셸 스크립트 또는 실행파일에 대한 실행 가능\n",
    "         - 디렉터리 : cd 명령 사용 가능하며 파일을 디렉터리로 이동 또는 복사 가능"
   ]
  },
  {
   "cell_type": "markdown",
   "id": "afd5ca05",
   "metadata": {},
   "source": [
    "# 2. 접근 권한 표기 방법"
   ]
  },
  {
   "cell_type": "markdown",
   "id": "2c1306cf",
   "metadata": {},
   "source": [
    "- 우분투에 접속한 사용자 카테고리별 누가 어떤 파일에 대해 읽기와 쓰기 그리고 실행할 수 있는지에 대해 문자로 표현하는 것을 의미"
   ]
  },
  {
   "cell_type": "markdown",
   "id": "fcd5c138",
   "metadata": {},
   "source": [
    "- 권한이 없을 경우 -로 표기하여 권한 없음을 나타내 줌"
   ]
  },
  {
   "cell_type": "markdown",
   "id": "1204bc3f",
   "metadata": {},
   "source": [
    "\n",
    "  \n",
    "- 파일 속성에 대한 상세한 정보\n",
    "\n",
    "- 접근 권한\n",
    "   - rwx r-x r-x : 소유자 권한(읽기, 쓰기, 실행), 그룹과 기타 사용자 권한(읽기, 실행)\n",
    "   - r-x r-x r-x : 소유자, 그룹, 기타 사용자(읽기, 실행) 권한만 부여\n",
    "   - rw- --- --- : 소유자(읽기, 쓰기) 권한만 부여 그룹과 기타 사용자는 권한 없음\n",
    "   - rw- rw- rw- : 소유자, 그룹, 기타 사용자 모두(읽기, 쓰기) 권한만 부여\n",
    "   - rwx rwx rwx : 소유자, 그룹, 기타 사용자 모두(읽기, 쓰기, 실행) 권한 부여\n",
    "   - rwx --- --- : 소유자(읽기, 쓰기, 실행) 권한만 부여\n",
    "   - r-- --- --- : 소유자(읽기) 권한만 부여"
   ]
  },
  {
   "cell_type": "markdown",
   "id": "bb36db1e",
   "metadata": {},
   "source": [
    "# \n",
    "\n",
    "# 3. 접근 권한 변경 명령"
   ]
  },
  {
   "cell_type": "markdown",
   "id": "f0aed3be",
   "metadata": {},
   "source": [
    "- 파일에 접근할 수 있는 권한에 대한 변경은 파일의 소유자와 시스템 관리자만 바꿀수 있음\n",
    "\n",
    "- 일반 사용자는 소유자 자신에게 허가된 파일 접근 권한뿐만 아니라 \n",
    "  그룹과 기타 사용자에 대한 권한도 변경할 수 있음\n",
    "  \n",
    "- 다른 사용자가 소유한 파일에는 접근 할수 없음\n",
    "- 파일 접근 권한을 변경해야만 해당 파일에 대해 접근이 가능\n",
    "\n",
    "- 파일 접근 권한 변경에 대한 명령은 change mode의 약어인 **chmod** 사용\n",
    "\n",
    "- chmod\n",
    "    - 기능 : 디렉터리 또는 파일의 접근 권한 변경\n",
    "    - 형식 : chmod [옵션]\n",
    "    - 옵션 \n",
    "        - R : 하위 디렉터리까지 접근 권한 모두 변경"
   ]
  }
 ],
 "metadata": {
  "kernelspec": {
   "display_name": "Python 3 (ipykernel)",
   "language": "python",
   "name": "python3"
  },
  "language_info": {
   "codemirror_mode": {
    "name": "ipython",
    "version": 3
   },
   "file_extension": ".py",
   "mimetype": "text/x-python",
   "name": "python",
   "nbconvert_exporter": "python",
   "pygments_lexer": "ipython3",
   "version": "3.9.13"
  }
 },
 "nbformat": 4,
 "nbformat_minor": 5
}
