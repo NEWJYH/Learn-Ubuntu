{
 "cells": [
  {
   "cell_type": "markdown",
   "id": "d69368d3",
   "metadata": {},
   "source": [
    "# 1. 하드 디스크 컨트롤러"
   ]
  },
  {
   "cell_type": "markdown",
   "id": "9c5e535b",
   "metadata": {},
   "source": [
    " - 하드 디스크를 메인보드에 장착하려면 컨트롤러가 필요\n",
    " \n",
    " - 메인보드에는 하드 디스크를 장착하기 위한 SATA(Serial ATA) 연결 커넥터를 제공\n",
    " \n",
    " - SATA는 컴퓨터의 하드 드라이브, 광 드라이브, 기타 저장 장치에 대한\n",
    "   현재 시점의 인터페이스 표준을 의미"
   ]
  },
  {
   "cell_type": "markdown",
   "id": "231d0ad3",
   "metadata": {},
   "source": [
    "## SCSI 인터페이스"
   ]
  },
  {
   "cell_type": "markdown",
   "id": "f718e179",
   "metadata": {},
   "source": [
    "- SCSI(Small Computer System Interface)\n",
    "    - 미국 표준학회(ANSI)에서 채택한 소형 컴퓨터 데이터 전송 방식에 관한 규약\n",
    "    \n",
    "    - 초기 IDE(PATA) 인터페이스는 인터럽트가 발생할 때마다 CPU를 점유해서 \n",
    "      성능이 낮았던 점과는 달리 SCSI 컨트롤러는 CPU와 독립적으로 처리 속도가 빠름\n",
    "      \n",
    "    - SCSI장치는 디스크를 연결할 수 있는 SCSI 방식의 컨트롤러를 의미\n",
    "    - SATA 컨트롤러는 CD/DVD 장치를 연결하는 인터페이스로 사용되고 SCSI 방식은 \n",
    "      서버급 장치에서 많이 사용되는 인터페이스 방식\n",
    "    \n",
    "    - 메인보드에 하드 디스크를 추가하는 것이 아니고 \n",
    "      가상머신인 VMware에 하드 디스크 추가 과정 수행\n",
    "    "
   ]
  },
  {
   "cell_type": "markdown",
   "id": "b9e99513",
   "metadata": {},
   "source": [
    "## 가상머신에서의 컨트롤러\n",
    "\n",
    "- VMware는 기본적으로 현재 디스크를 SCSI 0번 컨트롤러의 첫 번째 슬릇인 SCSI 0:0에\n",
    "  연결해 주고 CD/DVD 장치는 SATA 1:0에 연결해 줌\n",
    "- SATA 장치에 하드 디스크를 추가하려면 나머지 비어 있는 3개 장치\n",
    "    - SATA 0:0\n",
    "    - SATA 0:1\n",
    "    - SATA 1:1\n",
    "  에 장착해야 함 "
   ]
  },
  {
   "cell_type": "markdown",
   "id": "5cebc5f2",
   "metadata": {},
   "source": [
    "### VMware 설정 pass"
   ]
  }
 ],
 "metadata": {
  "kernelspec": {
   "display_name": "Python 3 (ipykernel)",
   "language": "python",
   "name": "python3"
  },
  "language_info": {
   "codemirror_mode": {
    "name": "ipython",
    "version": 3
   },
   "file_extension": ".py",
   "mimetype": "text/x-python",
   "name": "python",
   "nbconvert_exporter": "python",
   "pygments_lexer": "ipython3",
   "version": "3.9.13"
  }
 },
 "nbformat": 4,
 "nbformat_minor": 5
}
