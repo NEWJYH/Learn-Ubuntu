{
 "cells": [
  {
   "cell_type": "markdown",
   "id": "8ed069f5",
   "metadata": {},
   "source": [
    "# 1. 쿼터 수행 절차"
   ]
  },
  {
   "cell_type": "markdown",
   "id": "c6845d57",
   "metadata": {},
   "source": [
    " - 우분투 여러 사용자가 동시 접속\n",
    " - 특정 사용자가 많은 양의 디스크를 사용하게 될 경우 전체적인 시스템에 치명적 문제\n",
    " - 각각 사용자별로 사요할 수 있는 용량에 제한을 두어야 함 \n",
    " \n",
    " \n",
    "쿼터 \n",
    " - 파일 시스템마다 사용자 또는 그룹에 생성할 수 있는 파일 용량과 개수를 제한 하는 것\n",
    " \n",
    " "
   ]
  },
  {
   "cell_type": "markdown",
   "id": "3ef9da6c",
   "metadata": {},
   "source": [
    "쿼터를 수행 하는 절차\n",
    " - 1. 쿼터 관련 내용 추가 \n",
    " - 2. reboot, mount\n",
    " - 3. 쿼터 DB생성\n",
    " - 4. 쿼터 설정"
   ]
  },
  {
   "cell_type": "markdown",
   "id": "9a0d7499",
   "metadata": {},
   "source": [
    "### pass"
   ]
  }
 ],
 "metadata": {
  "kernelspec": {
   "display_name": "Python 3 (ipykernel)",
   "language": "python",
   "name": "python3"
  },
  "language_info": {
   "codemirror_mode": {
    "name": "ipython",
    "version": 3
   },
   "file_extension": ".py",
   "mimetype": "text/x-python",
   "name": "python",
   "nbconvert_exporter": "python",
   "pygments_lexer": "ipython3",
   "version": "3.9.13"
  }
 },
 "nbformat": 4,
 "nbformat_minor": 5
}
